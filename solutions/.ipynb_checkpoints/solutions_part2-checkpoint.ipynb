{
 "cells": [
  {
   "cell_type": "markdown",
   "metadata": {},
   "source": [
    "#### Exercise 1"
   ]
  },
  {
   "cell_type": "code",
   "execution_count": null,
   "metadata": {},
   "outputs": [],
   "source": [
    "# These lines are just creating the right types of geometrical objects with the right coordinates\n",
    "coords1 = [((5.5, 0), (5,5), (0, 6.5), (5, 9), (5.5, 14), (9, 10.5), (14, 12), (11.5, 6.5), (14, 2), (9, 3.5), (5.5, 0))]\n",
    "coords2 = [((-10, -8), (-9,-9), (-8,-8), (-8, 0)), ((-8, 0), (-1,0), (-4,4), (-8,5), (-12,4), (-15, 0), (-8, 0))]\n",
    "geom1 = shapely.geometry.MultiLineString(coords1)\n",
    "geom2 = shapely.geometry.MultiLineString(coords2)\n",
    "\n",
    "# These are the two lists mentioned in the prompt\n",
    "list_geom    = [geom1, geom2]\n",
    "list_strings = ['Starman', 'Singing in the Rain']\n",
    "\n",
    "# Create a GeoDataFrame\n",
    "new_gdf = gpd.GeoDataFrame({'Titles': list_strings , 'geometry': list_geom})\n",
    "\n",
    "# plot it\n",
    "new_gdf.plot()\n",
    "# Rotate the geometry by 90 degress.\n",
    "# For example, new_gdf.rotate(180) will rotate the geometry by 180 degrees\n",
    "new_gdf['geometry'] = new_gdf['geometry'].rotate(90)\n",
    "# plot the rotate geometry\n",
    "new_gdf.plot()\n",
    "\n",
    "# Get the area of the geometry\n",
    "print(new_gdf.area)\n",
    "# Why these values for the area?\n",
    "# Because the objects in the geometry are lines. Lines have no area"
   ]
  },
  {
   "cell_type": "markdown",
   "metadata": {},
   "source": [
    "#### Exercise 2"
   ]
  },
  {
   "cell_type": "code",
   "execution_count": null,
   "metadata": {},
   "outputs": [],
   "source": [
    "# Construct the new column\n",
    "blk['m_prop'] = ...\n",
    "# plot it\n",
    "blk.plot(column = 'm_prop', cmap = 'gist_gray_r', \n",
    "         linewidth=0.2, edgecolor='black')"
   ]
  }
 ],
 "metadata": {
  "kernelspec": {
   "display_name": "Python 3",
   "language": "python",
   "name": "python3"
  },
  "language_info": {
   "codemirror_mode": {
    "name": "ipython",
    "version": 3
   },
   "file_extension": ".py",
   "mimetype": "text/x-python",
   "name": "python",
   "nbconvert_exporter": "python",
   "pygments_lexer": "ipython3",
   "version": "3.7.6"
  }
 },
 "nbformat": 4,
 "nbformat_minor": 4
}
