{
 "cells": [
  {
   "cell_type": "markdown",
   "metadata": {},
   "source": [
    "### Solutions\n",
    "\n",
    "This notebook contains solutions to the exercises in Part 1. This code will not work unless you copy-paste it in the workshop1 notebook. Run it from there."
   ]
  },
  {
   "cell_type": "markdown",
   "metadata": {},
   "source": [
    "#### Exercise 1"
   ]
  },
  {
   "cell_type": "code",
   "execution_count": null,
   "metadata": {},
   "outputs": [],
   "source": [
    "# Don't worry about these lines of code. They simply draw 100 values from a standard normal distribution. \n",
    "np.random.seed(42)\n",
    "norm = np.random.normal(0,1,100)\n",
    "# Put the normal draws into a Series\n",
    "norm = pd.Series(norm)\n",
    "print(norm.values)\n",
    "\n",
    "# Complete the following two lines\n",
    "\n",
    "# Select values bigger than 1.96 or smaller than -1.96)\n",
    "bigger_smaller = norm.loc[(norm < -1.96) | (norm > 1.96)]\n",
    "\n",
    "# first and last element\n",
    "first_last = norm.iloc[[0, norm.shape[0]]]\n",
    "\n",
    "print(bigger_smaller)\n",
    "print(first_last)"
   ]
  },
  {
   "cell_type": "markdown",
   "metadata": {},
   "source": [
    "#### Exercise 2"
   ]
  },
  {
   "cell_type": "code",
   "execution_count": null,
   "metadata": {},
   "outputs": [],
   "source": [
    "# Initial list\n",
    "numb = ['1.2', '1.1', '0.2', '2.8', '7.1', '5.5', '6.7']\n",
    "# Put them into a Series\n",
    "numb = pd.Series(numb)\n",
    "print(f'Is numb a Series? {isinstance(numb, pd.Series)}')\n",
    "\n",
    "# Change their dtype to float32\n",
    "numb = numb.astype('float32')\n",
    "print(numb.dtype)\n",
    "# Calculate the median\n",
    "med = numb.median()\n",
    "\n",
    "# Use .apply() and np.round() to round number.\n",
    "rounded_numb = numb.apply(lambda x: np.round(x))\n",
    "print(rounded_numb)\n",
    "\n",
    "# Give your best try. square numbers that are close to an even\n",
    "# multiply by 2 those numbers that are close to an odd.\n",
    "# Suggestion to check if a number (x) is odd or even: x%2 == 0\n",
    "# We need to modify the rounded_numb type to int if we want the % to work\n",
    "rounded_numb = rounded_numb.astype('int32')\n",
    "is_even = rounded_numb.apply(lambda x: x%2 == 0)\n",
    "numb_sq = numb**2\n",
    "numb_db = numb*2\n",
    "numb_new = (is_even * numb_sq) + (~is_even * numb_db)\n",
    "print(numb_new)"
   ]
  },
  {
   "cell_type": "markdown",
   "metadata": {},
   "source": [
    "#### Exercise 3"
   ]
  },
  {
   "cell_type": "code",
   "execution_count": null,
   "metadata": {},
   "outputs": [],
   "source": [
    "# Mistakes happen. We will use a copy of the DataFrame for this exercise\n",
    "playground = super_df.copy()\n",
    "# Really the same\n",
    "print(playground.head())\n",
    "# For each column in the list cols, change '-' to Nan in the playground df\n",
    "cols = ['Eye color', 'Race', 'Hair color', 'Skin color', 'Alignment']\n",
    "\n",
    "for col in cols:\n",
    "    playground.loc[playground[col] == '-', col] = pd.NA\n",
    "print(playground.info())"
   ]
  },
  {
   "cell_type": "markdown",
   "metadata": {},
   "source": [
    "#### Exercise 4\n",
    "\n",
    "One of many ways to do this."
   ]
  },
  {
   "cell_type": "code",
   "execution_count": null,
   "metadata": {},
   "outputs": [],
   "source": [
    "# These are sort of open-ended questions, meaning that I did not provide you a straightforward way to do them\n",
    "# 1. Find out which heros have the maximum and minimum BMI overall\n",
    "# It makes sense to exclude those rows that do not have a BMI or a publisher\n",
    "no_na = (super_df['BMI'].notna()) & (super_df['Publisher'].notna())\n",
    "playground = super_df.loc[no_na].copy()\n",
    "M = playground.iloc[np.argmax(playground['BMI'].to_numpy()),:]\n",
    "m = playground.iloc[np.argmin(playground['BMI'].to_numpy()),:]\n",
    "print(f\"Max BMI:\\n{M}\\n\")\n",
    "print(f\"Min BMI:\\n{m}\\n\")\n",
    "\n",
    "# Try use the method .groupby( ) for the following. But other solutions are available if you prefer.\n",
    "# 2. Check the minimum BMI for all publishers.\n",
    "m_by_p = playground.groupby(\"Publisher\").min()\n",
    "print(f'Min BMI by publisher:\\n{m_by_p}\\n')\n",
    "# 3. Check the maximum BMI for all publishers.\n",
    "M_by_p = playground.groupby(\"Publisher\").max()\n",
    "print(f'Max BMI by publisher:\\n{M_by_p}\\n')\n",
    "# The range of a variable is the maximum value minus the minimum value.\n",
    "# 4. Find out which publisher has the widest range. \n",
    "range_by_p = M_by_p['BMI'] - m_by_p['BMI']\n",
    "print(f'Range BMI by publisher:\\n{range_by_p}\\n')\n",
    "\n",
    "\n",
    "# 5. Check the mean BMI for all publishers excluding those that only have 1 hero.\n",
    "n_publisher = playground.groupby('Publisher').count()\n",
    "# These are the publishers with more than 1 heroes\n",
    "good_pub =  n_publisher['BMI'] > 1\n",
    "# Get a boolean array out of good_pub\n",
    "retain_pub = playground['Publisher'].apply(lambda x: good_pub[x])\n",
    "# Do the selection, then groupby publisher using mean() -- all in one line\n",
    "mn_by_p = playground.loc[retain_pub].groupby('Publisher').mean()\n",
    "print(f'Mean BMI by publisher, for publisher with 1+ heroes:\\n{mn_by_p}\\n')\n",
    "# DC and Marvel have a much bigger mean BMI, probably due to their outlier"
   ]
  }
 ],
 "metadata": {
  "kernelspec": {
   "display_name": "Python 3",
   "language": "python",
   "name": "python3"
  },
  "language_info": {
   "codemirror_mode": {
    "name": "ipython",
    "version": 3
   },
   "file_extension": ".py",
   "mimetype": "text/x-python",
   "name": "python",
   "nbconvert_exporter": "python",
   "pygments_lexer": "ipython3",
   "version": "3.7.6"
  }
 },
 "nbformat": 4,
 "nbformat_minor": 4
}
